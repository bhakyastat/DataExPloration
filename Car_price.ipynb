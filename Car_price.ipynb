{
 "cells": [
  {
   "cell_type": "code",
   "execution_count": 2,
   "metadata": {},
   "outputs": [],
   "source": [
    "import pandas as pd\n",
    "import numpy as np\n",
    "import matplotlib.pyplot as plt\n",
    "import seaborn as sns\n",
    "import warnings\n",
    "warnings.filterwarnings(\"ignore\")"
   ]
  },
  {
   "cell_type": "code",
   "execution_count": 3,
   "metadata": {},
   "outputs": [],
   "source": [
    "data=pd.read_excel(\"Downloads//car_price_data.xlsx\")"
   ]
  },
  {
   "cell_type": "code",
   "execution_count": 4,
   "metadata": {},
   "outputs": [
    {
     "data": {
      "text/html": [
       "<div>\n",
       "<style scoped>\n",
       "    .dataframe tbody tr th:only-of-type {\n",
       "        vertical-align: middle;\n",
       "    }\n",
       "\n",
       "    .dataframe tbody tr th {\n",
       "        vertical-align: top;\n",
       "    }\n",
       "\n",
       "    .dataframe thead th {\n",
       "        text-align: right;\n",
       "    }\n",
       "</style>\n",
       "<table border=\"1\" class=\"dataframe\">\n",
       "  <thead>\n",
       "    <tr style=\"text-align: right;\">\n",
       "      <th></th>\n",
       "      <th>Car_Name</th>\n",
       "      <th>Year</th>\n",
       "      <th>Selling_Price</th>\n",
       "      <th>Present_Price</th>\n",
       "      <th>Kms_Driven</th>\n",
       "      <th>Fuel_Type</th>\n",
       "      <th>Seller_Type</th>\n",
       "      <th>Transmission</th>\n",
       "      <th>Owner</th>\n",
       "    </tr>\n",
       "  </thead>\n",
       "  <tbody>\n",
       "    <tr>\n",
       "      <th>0</th>\n",
       "      <td>ritz</td>\n",
       "      <td>2014</td>\n",
       "      <td>3.35</td>\n",
       "      <td>5.59</td>\n",
       "      <td>27000</td>\n",
       "      <td>Petrol</td>\n",
       "      <td>Dealer</td>\n",
       "      <td>Manual</td>\n",
       "      <td>0</td>\n",
       "    </tr>\n",
       "    <tr>\n",
       "      <th>1</th>\n",
       "      <td>sx4</td>\n",
       "      <td>2013</td>\n",
       "      <td>4.75</td>\n",
       "      <td>9.54</td>\n",
       "      <td>43000</td>\n",
       "      <td>Diesel</td>\n",
       "      <td>Dealer</td>\n",
       "      <td>Manual</td>\n",
       "      <td>0</td>\n",
       "    </tr>\n",
       "    <tr>\n",
       "      <th>2</th>\n",
       "      <td>ciaz</td>\n",
       "      <td>2017</td>\n",
       "      <td>7.25</td>\n",
       "      <td>9.85</td>\n",
       "      <td>6900</td>\n",
       "      <td>Petrol</td>\n",
       "      <td>Dealer</td>\n",
       "      <td>Manual</td>\n",
       "      <td>0</td>\n",
       "    </tr>\n",
       "    <tr>\n",
       "      <th>3</th>\n",
       "      <td>wagon r</td>\n",
       "      <td>2011</td>\n",
       "      <td>2.85</td>\n",
       "      <td>4.15</td>\n",
       "      <td>5200</td>\n",
       "      <td>Petrol</td>\n",
       "      <td>Dealer</td>\n",
       "      <td>Manual</td>\n",
       "      <td>0</td>\n",
       "    </tr>\n",
       "    <tr>\n",
       "      <th>4</th>\n",
       "      <td>swift</td>\n",
       "      <td>2014</td>\n",
       "      <td>4.60</td>\n",
       "      <td>6.87</td>\n",
       "      <td>42450</td>\n",
       "      <td>Diesel</td>\n",
       "      <td>Dealer</td>\n",
       "      <td>Manual</td>\n",
       "      <td>0</td>\n",
       "    </tr>\n",
       "  </tbody>\n",
       "</table>\n",
       "</div>"
      ],
      "text/plain": [
       "  Car_Name  Year  Selling_Price  Present_Price  Kms_Driven Fuel_Type  \\\n",
       "0     ritz  2014           3.35           5.59       27000    Petrol   \n",
       "1      sx4  2013           4.75           9.54       43000    Diesel   \n",
       "2     ciaz  2017           7.25           9.85        6900    Petrol   \n",
       "3  wagon r  2011           2.85           4.15        5200    Petrol   \n",
       "4    swift  2014           4.60           6.87       42450    Diesel   \n",
       "\n",
       "  Seller_Type Transmission  Owner  \n",
       "0      Dealer       Manual      0  \n",
       "1      Dealer       Manual      0  \n",
       "2      Dealer       Manual      0  \n",
       "3      Dealer       Manual      0  \n",
       "4      Dealer       Manual      0  "
      ]
     },
     "execution_count": 4,
     "metadata": {},
     "output_type": "execute_result"
    }
   ],
   "source": [
    "data.head()"
   ]
  },
  {
   "cell_type": "code",
   "execution_count": 34,
   "metadata": {},
   "outputs": [],
   "source": [
    "data.drop(labels='Year',axis=1,inplace=True) "
   ]
  },
  {
   "cell_type": "code",
   "execution_count": 35,
   "metadata": {},
   "outputs": [
    {
     "data": {
      "text/html": [
       "<div>\n",
       "<style scoped>\n",
       "    .dataframe tbody tr th:only-of-type {\n",
       "        vertical-align: middle;\n",
       "    }\n",
       "\n",
       "    .dataframe tbody tr th {\n",
       "        vertical-align: top;\n",
       "    }\n",
       "\n",
       "    .dataframe thead th {\n",
       "        text-align: right;\n",
       "    }\n",
       "</style>\n",
       "<table border=\"1\" class=\"dataframe\">\n",
       "  <thead>\n",
       "    <tr style=\"text-align: right;\">\n",
       "      <th></th>\n",
       "      <th>Car_Name</th>\n",
       "      <th>Selling_Price</th>\n",
       "      <th>Present_Price</th>\n",
       "      <th>Kms_Driven</th>\n",
       "      <th>Fuel_Type</th>\n",
       "      <th>Seller_Type</th>\n",
       "      <th>Transmission</th>\n",
       "      <th>Owner</th>\n",
       "    </tr>\n",
       "  </thead>\n",
       "  <tbody>\n",
       "    <tr>\n",
       "      <th>0</th>\n",
       "      <td>ritz</td>\n",
       "      <td>3.35</td>\n",
       "      <td>5.59</td>\n",
       "      <td>27000</td>\n",
       "      <td>Petrol</td>\n",
       "      <td>Dealer</td>\n",
       "      <td>Manual</td>\n",
       "      <td>0</td>\n",
       "    </tr>\n",
       "    <tr>\n",
       "      <th>1</th>\n",
       "      <td>sx4</td>\n",
       "      <td>4.75</td>\n",
       "      <td>9.54</td>\n",
       "      <td>43000</td>\n",
       "      <td>Diesel</td>\n",
       "      <td>Dealer</td>\n",
       "      <td>Manual</td>\n",
       "      <td>0</td>\n",
       "    </tr>\n",
       "    <tr>\n",
       "      <th>2</th>\n",
       "      <td>ciaz</td>\n",
       "      <td>7.25</td>\n",
       "      <td>9.85</td>\n",
       "      <td>6900</td>\n",
       "      <td>Petrol</td>\n",
       "      <td>Dealer</td>\n",
       "      <td>Manual</td>\n",
       "      <td>0</td>\n",
       "    </tr>\n",
       "    <tr>\n",
       "      <th>3</th>\n",
       "      <td>wagon r</td>\n",
       "      <td>2.85</td>\n",
       "      <td>4.15</td>\n",
       "      <td>5200</td>\n",
       "      <td>Petrol</td>\n",
       "      <td>Dealer</td>\n",
       "      <td>Manual</td>\n",
       "      <td>0</td>\n",
       "    </tr>\n",
       "    <tr>\n",
       "      <th>4</th>\n",
       "      <td>swift</td>\n",
       "      <td>4.60</td>\n",
       "      <td>6.87</td>\n",
       "      <td>42450</td>\n",
       "      <td>Diesel</td>\n",
       "      <td>Dealer</td>\n",
       "      <td>Manual</td>\n",
       "      <td>0</td>\n",
       "    </tr>\n",
       "  </tbody>\n",
       "</table>\n",
       "</div>"
      ],
      "text/plain": [
       "  Car_Name  Selling_Price  Present_Price  Kms_Driven Fuel_Type Seller_Type  \\\n",
       "0     ritz           3.35           5.59       27000    Petrol      Dealer   \n",
       "1      sx4           4.75           9.54       43000    Diesel      Dealer   \n",
       "2     ciaz           7.25           9.85        6900    Petrol      Dealer   \n",
       "3  wagon r           2.85           4.15        5200    Petrol      Dealer   \n",
       "4    swift           4.60           6.87       42450    Diesel      Dealer   \n",
       "\n",
       "  Transmission  Owner  \n",
       "0       Manual      0  \n",
       "1       Manual      0  \n",
       "2       Manual      0  \n",
       "3       Manual      0  \n",
       "4       Manual      0  "
      ]
     },
     "execution_count": 35,
     "metadata": {},
     "output_type": "execute_result"
    }
   ],
   "source": [
    "data.head()"
   ]
  },
  {
   "cell_type": "code",
   "execution_count": 5,
   "metadata": {},
   "outputs": [
    {
     "data": {
      "text/plain": [
       "Index(['Car_Name', 'Year', 'Selling_Price', 'Present_Price', 'Kms_Driven',\n",
       "       'Fuel_Type', 'Seller_Type', 'Transmission', 'Owner'],\n",
       "      dtype='object')"
      ]
     },
     "execution_count": 5,
     "metadata": {},
     "output_type": "execute_result"
    }
   ],
   "source": [
    "data.columns"
   ]
  },
  {
   "cell_type": "code",
   "execution_count": 6,
   "metadata": {},
   "outputs": [
    {
     "name": "stdout",
     "output_type": "stream",
     "text": [
      "<class 'pandas.core.frame.DataFrame'>\n",
      "RangeIndex: 301 entries, 0 to 300\n",
      "Data columns (total 9 columns):\n",
      " #   Column         Non-Null Count  Dtype  \n",
      "---  ------         --------------  -----  \n",
      " 0   Car_Name       301 non-null    object \n",
      " 1   Year           301 non-null    int64  \n",
      " 2   Selling_Price  301 non-null    float64\n",
      " 3   Present_Price  301 non-null    float64\n",
      " 4   Kms_Driven     301 non-null    int64  \n",
      " 5   Fuel_Type      301 non-null    object \n",
      " 6   Seller_Type    301 non-null    object \n",
      " 7   Transmission   301 non-null    object \n",
      " 8   Owner          301 non-null    int64  \n",
      "dtypes: float64(2), int64(3), object(4)\n",
      "memory usage: 21.3+ KB\n"
     ]
    }
   ],
   "source": [
    "data.info()"
   ]
  },
  {
   "cell_type": "code",
   "execution_count": 7,
   "metadata": {},
   "outputs": [
    {
     "data": {
      "text/html": [
       "<div>\n",
       "<style scoped>\n",
       "    .dataframe tbody tr th:only-of-type {\n",
       "        vertical-align: middle;\n",
       "    }\n",
       "\n",
       "    .dataframe tbody tr th {\n",
       "        vertical-align: top;\n",
       "    }\n",
       "\n",
       "    .dataframe thead th {\n",
       "        text-align: right;\n",
       "    }\n",
       "</style>\n",
       "<table border=\"1\" class=\"dataframe\">\n",
       "  <thead>\n",
       "    <tr style=\"text-align: right;\">\n",
       "      <th></th>\n",
       "      <th>Year</th>\n",
       "      <th>Selling_Price</th>\n",
       "      <th>Present_Price</th>\n",
       "      <th>Kms_Driven</th>\n",
       "      <th>Owner</th>\n",
       "    </tr>\n",
       "  </thead>\n",
       "  <tbody>\n",
       "    <tr>\n",
       "      <th>count</th>\n",
       "      <td>301.000000</td>\n",
       "      <td>301.000000</td>\n",
       "      <td>301.000000</td>\n",
       "      <td>301.000000</td>\n",
       "      <td>301.000000</td>\n",
       "    </tr>\n",
       "    <tr>\n",
       "      <th>mean</th>\n",
       "      <td>2013.627907</td>\n",
       "      <td>4.661296</td>\n",
       "      <td>7.628472</td>\n",
       "      <td>36947.205980</td>\n",
       "      <td>0.043189</td>\n",
       "    </tr>\n",
       "    <tr>\n",
       "      <th>std</th>\n",
       "      <td>2.891554</td>\n",
       "      <td>5.082812</td>\n",
       "      <td>8.644115</td>\n",
       "      <td>38886.883882</td>\n",
       "      <td>0.247915</td>\n",
       "    </tr>\n",
       "    <tr>\n",
       "      <th>min</th>\n",
       "      <td>2003.000000</td>\n",
       "      <td>0.100000</td>\n",
       "      <td>0.320000</td>\n",
       "      <td>500.000000</td>\n",
       "      <td>0.000000</td>\n",
       "    </tr>\n",
       "    <tr>\n",
       "      <th>25%</th>\n",
       "      <td>2012.000000</td>\n",
       "      <td>0.900000</td>\n",
       "      <td>1.200000</td>\n",
       "      <td>15000.000000</td>\n",
       "      <td>0.000000</td>\n",
       "    </tr>\n",
       "    <tr>\n",
       "      <th>50%</th>\n",
       "      <td>2014.000000</td>\n",
       "      <td>3.600000</td>\n",
       "      <td>6.400000</td>\n",
       "      <td>32000.000000</td>\n",
       "      <td>0.000000</td>\n",
       "    </tr>\n",
       "    <tr>\n",
       "      <th>75%</th>\n",
       "      <td>2016.000000</td>\n",
       "      <td>6.000000</td>\n",
       "      <td>9.900000</td>\n",
       "      <td>48767.000000</td>\n",
       "      <td>0.000000</td>\n",
       "    </tr>\n",
       "    <tr>\n",
       "      <th>max</th>\n",
       "      <td>2018.000000</td>\n",
       "      <td>35.000000</td>\n",
       "      <td>92.600000</td>\n",
       "      <td>500000.000000</td>\n",
       "      <td>3.000000</td>\n",
       "    </tr>\n",
       "  </tbody>\n",
       "</table>\n",
       "</div>"
      ],
      "text/plain": [
       "              Year  Selling_Price  Present_Price     Kms_Driven       Owner\n",
       "count   301.000000     301.000000     301.000000     301.000000  301.000000\n",
       "mean   2013.627907       4.661296       7.628472   36947.205980    0.043189\n",
       "std       2.891554       5.082812       8.644115   38886.883882    0.247915\n",
       "min    2003.000000       0.100000       0.320000     500.000000    0.000000\n",
       "25%    2012.000000       0.900000       1.200000   15000.000000    0.000000\n",
       "50%    2014.000000       3.600000       6.400000   32000.000000    0.000000\n",
       "75%    2016.000000       6.000000       9.900000   48767.000000    0.000000\n",
       "max    2018.000000      35.000000      92.600000  500000.000000    3.000000"
      ]
     },
     "execution_count": 7,
     "metadata": {},
     "output_type": "execute_result"
    }
   ],
   "source": [
    "data.describe()"
   ]
  },
  {
   "cell_type": "code",
   "execution_count": 8,
   "metadata": {},
   "outputs": [
    {
     "data": {
      "text/plain": [
       "(301, 9)"
      ]
     },
     "execution_count": 8,
     "metadata": {},
     "output_type": "execute_result"
    }
   ],
   "source": [
    "data.shape"
   ]
  },
  {
   "cell_type": "code",
   "execution_count": 9,
   "metadata": {},
   "outputs": [
    {
     "data": {
      "text/plain": [
       "Car_Name         0\n",
       "Year             0\n",
       "Selling_Price    0\n",
       "Present_Price    0\n",
       "Kms_Driven       0\n",
       "Fuel_Type        0\n",
       "Seller_Type      0\n",
       "Transmission     0\n",
       "Owner            0\n",
       "dtype: int64"
      ]
     },
     "execution_count": 9,
     "metadata": {},
     "output_type": "execute_result"
    }
   ],
   "source": [
    "data.isnull().sum()"
   ]
  },
  {
   "cell_type": "code",
   "execution_count": 10,
   "metadata": {},
   "outputs": [
    {
     "name": "stdout",
     "output_type": "stream",
     "text": [
      "['Car_Name']  :  ['ritz' 'sx4' 'ciaz' 'wagon r' 'swift' 'vitara brezza' 's cross'\n",
      " 'alto 800' 'ertiga' 'dzire' 'alto k10' 'ignis' 800 'baleno' 'omni'\n",
      " 'fortuner' 'innova' 'corolla altis' 'etios cross' 'etios g' 'etios liva'\n",
      " 'corolla' 'etios gd' 'camry' 'land cruiser' 'Royal Enfield Thunder 500'\n",
      " 'UM Renegade Mojave' 'KTM RC200' 'Bajaj Dominar 400'\n",
      " 'Royal Enfield Classic 350' 'KTM RC390' 'Hyosung GT250R'\n",
      " 'Royal Enfield Thunder 350' 'KTM 390 Duke' 'Mahindra Mojo XT300'\n",
      " 'Bajaj Pulsar RS200' 'Royal Enfield Bullet 350'\n",
      " 'Royal Enfield Classic 500' 'Bajaj Avenger 220' 'Bajaj Avenger 150'\n",
      " 'Honda CB Hornet 160R' 'Yamaha FZ S V 2.0' 'Yamaha FZ 16'\n",
      " 'TVS Apache RTR 160' 'Bajaj Pulsar 150' 'Honda CBR 150' 'Hero Extreme'\n",
      " 'Bajaj Avenger 220 dtsi' 'Bajaj Avenger 150 street' 'Yamaha FZ  v 2.0'\n",
      " 'Bajaj Pulsar  NS 200' 'Bajaj Pulsar 220 F' 'TVS Apache RTR 180'\n",
      " 'Hero Passion X pro' 'Bajaj Pulsar NS 200' 'Yamaha Fazer'\n",
      " 'Honda Activa 4G' 'TVS Sport' 'Honda Dream Yuga'\n",
      " 'Bajaj Avenger Street 220' 'Hero Splender iSmart' 'Activa 3g'\n",
      " 'Hero Passion Pro' 'Honda CB Trigger' 'Yamaha FZ S' 'Bajaj Pulsar 135 LS'\n",
      " 'Activa 4g' 'Honda CB Unicorn' 'Hero Honda CBZ extreme' 'Honda Karizma'\n",
      " 'Honda Activa 125' 'TVS Jupyter' 'Hero Honda Passion Pro'\n",
      " 'Hero Splender Plus' 'Honda CB Shine' 'Bajaj Discover 100'\n",
      " 'Suzuki Access 125' 'TVS Wego' 'Honda CB twister' 'Hero Glamour'\n",
      " 'Hero Super Splendor' 'Bajaj Discover 125' 'Hero Hunk'\n",
      " 'Hero  Ignitor Disc' 'Hero  CBZ Xtreme' 'Bajaj  ct 100' 'i20' 'grand i10'\n",
      " 'i10' 'eon' 'xcent' 'elantra' 'creta' 'verna' 'city' 'brio' 'amaze'\n",
      " 'jazz']\n",
      "['Seller_Type']  :  ['Dealer' 'Individual']\n",
      "['Fuel_Type']  :  ['Petrol' 'Diesel' 'CNG']\n",
      "['Transmission']  :  ['Manual' 'Automatic']\n"
     ]
    }
   ],
   "source": [
    "cat_val = ['Car_Name', 'Seller_Type', 'Fuel_Type', 'Transmission']\n",
    "for col in cat_val:\n",
    "    print ([col],\" : \",data[col].unique())"
   ]
  },
  {
   "cell_type": "code",
   "execution_count": 36,
   "metadata": {},
   "outputs": [],
   "source": [
    "data1 = data.drop(labels='Car_Name',axis=1) "
   ]
  },
  {
   "cell_type": "code",
   "execution_count": 37,
   "metadata": {},
   "outputs": [
    {
     "data": {
      "text/html": [
       "<div>\n",
       "<style scoped>\n",
       "    .dataframe tbody tr th:only-of-type {\n",
       "        vertical-align: middle;\n",
       "    }\n",
       "\n",
       "    .dataframe tbody tr th {\n",
       "        vertical-align: top;\n",
       "    }\n",
       "\n",
       "    .dataframe thead th {\n",
       "        text-align: right;\n",
       "    }\n",
       "</style>\n",
       "<table border=\"1\" class=\"dataframe\">\n",
       "  <thead>\n",
       "    <tr style=\"text-align: right;\">\n",
       "      <th></th>\n",
       "      <th>Selling_Price</th>\n",
       "      <th>Present_Price</th>\n",
       "      <th>Kms_Driven</th>\n",
       "      <th>Fuel_Type</th>\n",
       "      <th>Seller_Type</th>\n",
       "      <th>Transmission</th>\n",
       "      <th>Owner</th>\n",
       "    </tr>\n",
       "  </thead>\n",
       "  <tbody>\n",
       "    <tr>\n",
       "      <th>0</th>\n",
       "      <td>3.35</td>\n",
       "      <td>5.59</td>\n",
       "      <td>27000</td>\n",
       "      <td>Petrol</td>\n",
       "      <td>Dealer</td>\n",
       "      <td>Manual</td>\n",
       "      <td>0</td>\n",
       "    </tr>\n",
       "    <tr>\n",
       "      <th>1</th>\n",
       "      <td>4.75</td>\n",
       "      <td>9.54</td>\n",
       "      <td>43000</td>\n",
       "      <td>Diesel</td>\n",
       "      <td>Dealer</td>\n",
       "      <td>Manual</td>\n",
       "      <td>0</td>\n",
       "    </tr>\n",
       "    <tr>\n",
       "      <th>2</th>\n",
       "      <td>7.25</td>\n",
       "      <td>9.85</td>\n",
       "      <td>6900</td>\n",
       "      <td>Petrol</td>\n",
       "      <td>Dealer</td>\n",
       "      <td>Manual</td>\n",
       "      <td>0</td>\n",
       "    </tr>\n",
       "    <tr>\n",
       "      <th>3</th>\n",
       "      <td>2.85</td>\n",
       "      <td>4.15</td>\n",
       "      <td>5200</td>\n",
       "      <td>Petrol</td>\n",
       "      <td>Dealer</td>\n",
       "      <td>Manual</td>\n",
       "      <td>0</td>\n",
       "    </tr>\n",
       "    <tr>\n",
       "      <th>4</th>\n",
       "      <td>4.60</td>\n",
       "      <td>6.87</td>\n",
       "      <td>42450</td>\n",
       "      <td>Diesel</td>\n",
       "      <td>Dealer</td>\n",
       "      <td>Manual</td>\n",
       "      <td>0</td>\n",
       "    </tr>\n",
       "  </tbody>\n",
       "</table>\n",
       "</div>"
      ],
      "text/plain": [
       "   Selling_Price  Present_Price  Kms_Driven Fuel_Type Seller_Type  \\\n",
       "0           3.35           5.59       27000    Petrol      Dealer   \n",
       "1           4.75           9.54       43000    Diesel      Dealer   \n",
       "2           7.25           9.85        6900    Petrol      Dealer   \n",
       "3           2.85           4.15        5200    Petrol      Dealer   \n",
       "4           4.60           6.87       42450    Diesel      Dealer   \n",
       "\n",
       "  Transmission  Owner  \n",
       "0       Manual      0  \n",
       "1       Manual      0  \n",
       "2       Manual      0  \n",
       "3       Manual      0  \n",
       "4       Manual      0  "
      ]
     },
     "execution_count": 37,
     "metadata": {},
     "output_type": "execute_result"
    }
   ],
   "source": [
    "data1.head()"
   ]
  },
  {
   "cell_type": "code",
   "execution_count": 39,
   "metadata": {},
   "outputs": [
    {
     "data": {
      "text/html": [
       "<div>\n",
       "<style scoped>\n",
       "    .dataframe tbody tr th:only-of-type {\n",
       "        vertical-align: middle;\n",
       "    }\n",
       "\n",
       "    .dataframe tbody tr th {\n",
       "        vertical-align: top;\n",
       "    }\n",
       "\n",
       "    .dataframe thead th {\n",
       "        text-align: right;\n",
       "    }\n",
       "</style>\n",
       "<table border=\"1\" class=\"dataframe\">\n",
       "  <thead>\n",
       "    <tr style=\"text-align: right;\">\n",
       "      <th></th>\n",
       "      <th>Selling_Price</th>\n",
       "      <th>Present_Price</th>\n",
       "      <th>Kms_Driven</th>\n",
       "      <th>Owner</th>\n",
       "      <th>Fuel_Type_Diesel</th>\n",
       "      <th>Fuel_Type_Petrol</th>\n",
       "      <th>Seller_Type_Individual</th>\n",
       "      <th>Transmission_Manual</th>\n",
       "    </tr>\n",
       "  </thead>\n",
       "  <tbody>\n",
       "    <tr>\n",
       "      <th>0</th>\n",
       "      <td>3.35</td>\n",
       "      <td>5.59</td>\n",
       "      <td>27000</td>\n",
       "      <td>0</td>\n",
       "      <td>0</td>\n",
       "      <td>1</td>\n",
       "      <td>0</td>\n",
       "      <td>1</td>\n",
       "    </tr>\n",
       "    <tr>\n",
       "      <th>1</th>\n",
       "      <td>4.75</td>\n",
       "      <td>9.54</td>\n",
       "      <td>43000</td>\n",
       "      <td>0</td>\n",
       "      <td>1</td>\n",
       "      <td>0</td>\n",
       "      <td>0</td>\n",
       "      <td>1</td>\n",
       "    </tr>\n",
       "    <tr>\n",
       "      <th>2</th>\n",
       "      <td>7.25</td>\n",
       "      <td>9.85</td>\n",
       "      <td>6900</td>\n",
       "      <td>0</td>\n",
       "      <td>0</td>\n",
       "      <td>1</td>\n",
       "      <td>0</td>\n",
       "      <td>1</td>\n",
       "    </tr>\n",
       "    <tr>\n",
       "      <th>3</th>\n",
       "      <td>2.85</td>\n",
       "      <td>4.15</td>\n",
       "      <td>5200</td>\n",
       "      <td>0</td>\n",
       "      <td>0</td>\n",
       "      <td>1</td>\n",
       "      <td>0</td>\n",
       "      <td>1</td>\n",
       "    </tr>\n",
       "    <tr>\n",
       "      <th>4</th>\n",
       "      <td>4.60</td>\n",
       "      <td>6.87</td>\n",
       "      <td>42450</td>\n",
       "      <td>0</td>\n",
       "      <td>1</td>\n",
       "      <td>0</td>\n",
       "      <td>0</td>\n",
       "      <td>1</td>\n",
       "    </tr>\n",
       "  </tbody>\n",
       "</table>\n",
       "</div>"
      ],
      "text/plain": [
       "   Selling_Price  Present_Price  Kms_Driven  Owner  Fuel_Type_Diesel  \\\n",
       "0           3.35           5.59       27000      0                 0   \n",
       "1           4.75           9.54       43000      0                 1   \n",
       "2           7.25           9.85        6900      0                 0   \n",
       "3           2.85           4.15        5200      0                 0   \n",
       "4           4.60           6.87       42450      0                 1   \n",
       "\n",
       "   Fuel_Type_Petrol  Seller_Type_Individual  Transmission_Manual  \n",
       "0                 1                       0                    1  \n",
       "1                 0                       0                    1  \n",
       "2                 1                       0                    1  \n",
       "3                 1                       0                    1  \n",
       "4                 0                       0                    1  "
      ]
     },
     "execution_count": 39,
     "metadata": {},
     "output_type": "execute_result"
    }
   ],
   "source": [
    "clean_data=pd.get_dummies(data1,drop_first=True) \n",
    "clean_data.head() "
   ]
  },
  {
   "cell_type": "code",
   "execution_count": 41,
   "metadata": {},
   "outputs": [
    {
     "data": {
      "text/plain": [
       "<matplotlib.axes._subplots.AxesSubplot at 0x14bacf27910>"
      ]
     },
     "execution_count": 41,
     "metadata": {},
     "output_type": "execute_result"
    },
    {
     "data": {
      "image/png": "[encoded data removed]",
      "text/plain": [
       "<Figure size 432x288 with 1 Axes>"
      ]
     },
     "metadata": {
      "needs_background": "light"
     },
     "output_type": "display_data"
    }
   ],
   "source": [
    "sns.countplot(x='Selling_Price',hue='Fuel_Type',data=data)"
   ]
  },
  {
   "cell_type": "code",
   "execution_count": 42,
   "metadata": {},
   "outputs": [
    {
     "data": {
      "image/png": "[encoded data removed]",
      "text/plain": [
       "<Figure size 1296x1296 with 2 Axes>"
      ]
     },
     "metadata": {
      "needs_background": "light"
     },
     "output_type": "display_data"
    }
   ],
   "source": [
    "plt.figure(figsize = (18,18))\n",
    "sns.heatmap(data.corr(), annot = True, cmap = \"RdYlGn\")\n",
    "plt.show()"
   ]
  },
  {
   "cell_type": "code",
   "execution_count": 43,
   "metadata": {},
   "outputs": [
    {
     "data": {
      "text/html": [
       "<div>\n",
       "<style scoped>\n",
       "    .dataframe tbody tr th:only-of-type {\n",
       "        vertical-align: middle;\n",
       "    }\n",
       "\n",
       "    .dataframe tbody tr th {\n",
       "        vertical-align: top;\n",
       "    }\n",
       "\n",
       "    .dataframe thead th {\n",
       "        text-align: right;\n",
       "    }\n",
       "</style>\n",
       "<table border=\"1\" class=\"dataframe\">\n",
       "  <thead>\n",
       "    <tr style=\"text-align: right;\">\n",
       "      <th></th>\n",
       "      <th>Selling_Price</th>\n",
       "      <th>Present_Price</th>\n",
       "      <th>Kms_Driven</th>\n",
       "      <th>Owner</th>\n",
       "    </tr>\n",
       "  </thead>\n",
       "  <tbody>\n",
       "    <tr>\n",
       "      <th>Selling_Price</th>\n",
       "      <td>1.000000</td>\n",
       "      <td>0.878983</td>\n",
       "      <td>0.029187</td>\n",
       "      <td>-0.088344</td>\n",
       "    </tr>\n",
       "    <tr>\n",
       "      <th>Present_Price</th>\n",
       "      <td>0.878983</td>\n",
       "      <td>1.000000</td>\n",
       "      <td>0.203647</td>\n",
       "      <td>0.008057</td>\n",
       "    </tr>\n",
       "    <tr>\n",
       "      <th>Kms_Driven</th>\n",
       "      <td>0.029187</td>\n",
       "      <td>0.203647</td>\n",
       "      <td>1.000000</td>\n",
       "      <td>0.089216</td>\n",
       "    </tr>\n",
       "    <tr>\n",
       "      <th>Owner</th>\n",
       "      <td>-0.088344</td>\n",
       "      <td>0.008057</td>\n",
       "      <td>0.089216</td>\n",
       "      <td>1.000000</td>\n",
       "    </tr>\n",
       "  </tbody>\n",
       "</table>\n",
       "</div>"
      ],
      "text/plain": [
       "               Selling_Price  Present_Price  Kms_Driven     Owner\n",
       "Selling_Price       1.000000       0.878983    0.029187 -0.088344\n",
       "Present_Price       0.878983       1.000000    0.203647  0.008057\n",
       "Kms_Driven          0.029187       0.203647    1.000000  0.089216\n",
       "Owner              -0.088344       0.008057    0.089216  1.000000"
      ]
     },
     "execution_count": 43,
     "metadata": {},
     "output_type": "execute_result"
    }
   ],
   "source": [
    "data.corr()"
   ]
  },
  {
   "cell_type": "code",
   "execution_count": 16,
   "metadata": {},
   "outputs": [
    {
     "data": {
      "text/plain": [
       "(array([236.,  57.,   5.,   1.,   1.,   0.,   0.,   0.,   0.,   1.]),\n",
       " array([   500.,  50450., 100400., 150350., 200300., 250250., 300200.,\n",
       "        350150., 400100., 450050., 500000.]),\n",
       " <a list of 10 Patch objects>)"
      ]
     },
     "execution_count": 16,
     "metadata": {},
     "output_type": "execute_result"
    },
    {
     "data": {
      "image/png": "[encoded data removed]",
      "text/plain": [
       "<Figure size 432x288 with 1 Axes>"
      ]
     },
     "metadata": {
      "needs_background": "light"
     },
     "output_type": "display_data"
    }
   ],
   "source": [
    "plt.hist(data['Kms_Driven'],color='blue')"
   ]
  },
  {
   "cell_type": "code",
   "execution_count": 44,
   "metadata": {},
   "outputs": [
    {
     "data": {
      "image/png": "[encoded data removed]",
      "text/plain": [
       "<Figure size 432x288 with 1 Axes>"
      ]
     },
     "metadata": {
      "needs_background": "light"
     },
     "output_type": "display_data"
    }
   ],
   "source": [
    "plt.scatter(data['Selling_Price'],data['Present_Price'],color='pink') \n",
    "plt.show() "
   ]
  },
  {
   "cell_type": "code",
   "execution_count": 46,
   "metadata": {},
   "outputs": [
    {
     "data": {
      "text/plain": [
       "(array([236.,  57.,   5.,   1.,   1.,   0.,   0.,   0.,   0.,   1.]),\n",
       " array([   500.,  50450., 100400., 150350., 200300., 250250., 300200.,\n",
       "        350150., 400100., 450050., 500000.]),\n",
       " <a list of 10 Patch objects>)"
      ]
     },
     "execution_count": 46,
     "metadata": {},
     "output_type": "execute_result"
    },
    {
     "data": {
      "image/png": "[encoded data removed]",
      "text/plain": [
       "<Figure size 432x288 with 1 Axes>"
      ]
     },
     "metadata": {
      "needs_background": "light"
     },
     "output_type": "display_data"
    }
   ],
   "source": [
    "plt.hist(data['Kms_Driven'])"
   ]
  },
  {
   "cell_type": "code",
   "execution_count": 47,
   "metadata": {},
   "outputs": [
    {
     "data": {
      "text/plain": [
       "<matplotlib.axes._subplots.AxesSubplot at 0x14bad45fc10>"
      ]
     },
     "execution_count": 47,
     "metadata": {},
     "output_type": "execute_result"
    },
    {
     "data": {
      "image/png": "[encoded data removed]",
      "text/plain": [
       "<Figure size 432x288 with 1 Axes>"
      ]
     },
     "metadata": {
      "needs_background": "light"
     },
     "output_type": "display_data"
    }
   ],
   "source": [
    "sns.distplot(data[\"Kms_Driven\"])"
   ]
  },
  {
   "cell_type": "code",
   "execution_count": 48,
   "metadata": {},
   "outputs": [
    {
     "data": {
      "text/plain": [
       "<matplotlib.axes._subplots.AxesSubplot at 0x14bad06d0d0>"
      ]
     },
     "execution_count": 48,
     "metadata": {},
     "output_type": "execute_result"
    },
    {
     "data": {
      "image/png": "[encoded data removed]",
      "text/plain": [
       "<Figure size 432x288 with 1 Axes>"
      ]
     },
     "metadata": {
      "needs_background": "light"
     },
     "output_type": "display_data"
    }
   ],
   "source": [
    "sns.distplot(data[\"Selling_Price\"])"
   ]
  },
  {
   "cell_type": "code",
   "execution_count": 49,
   "metadata": {},
   "outputs": [
    {
     "data": {
      "text/plain": [
       "<matplotlib.axes._subplots.AxesSubplot at 0x14bacd1dc70>"
      ]
     },
     "execution_count": 49,
     "metadata": {},
     "output_type": "execute_result"
    },
    {
     "data": {
      "image/png": "[encoded data removed]",
      "text/plain": [
       "<Figure size 432x288 with 1 Axes>"
      ]
     },
     "metadata": {
      "needs_background": "light"
     },
     "output_type": "display_data"
    }
   ],
   "source": [
    "sns.distplot(data[\"Present_Price\"])"
   ]
  },
  {
   "cell_type": "code",
   "execution_count": 50,
   "metadata": {},
   "outputs": [
    {
     "data": {
      "image/png": "[encoded data removed]",
      "text/plain": [
       "<Figure size 360x180 with 2 Axes>"
      ]
     },
     "metadata": {
      "needs_background": "light"
     },
     "output_type": "display_data"
    }
   ],
   "source": [
    "sns.pairplot(data, x_vars=['Owner', 'Kms_Driven'], y_vars=[\"Present_Price\"],aspect=1);"
   ]
  },
  {
   "cell_type": "code",
   "execution_count": 52,
   "metadata": {},
   "outputs": [
    {
     "data": {
      "text/html": [
       "<div>\n",
       "<style scoped>\n",
       "    .dataframe tbody tr th:only-of-type {\n",
       "        vertical-align: middle;\n",
       "    }\n",
       "\n",
       "    .dataframe tbody tr th {\n",
       "        vertical-align: top;\n",
       "    }\n",
       "\n",
       "    .dataframe thead th {\n",
       "        text-align: right;\n",
       "    }\n",
       "</style>\n",
       "<table border=\"1\" class=\"dataframe\">\n",
       "  <thead>\n",
       "    <tr style=\"text-align: right;\">\n",
       "      <th></th>\n",
       "      <th>VIF</th>\n",
       "      <th>Features</th>\n",
       "    </tr>\n",
       "  </thead>\n",
       "  <tbody>\n",
       "    <tr>\n",
       "      <th>0</th>\n",
       "      <td>3.176656</td>\n",
       "      <td>Present_Price</td>\n",
       "    </tr>\n",
       "    <tr>\n",
       "      <th>1</th>\n",
       "      <td>2.021693</td>\n",
       "      <td>Kms_Driven</td>\n",
       "    </tr>\n",
       "    <tr>\n",
       "      <th>2</th>\n",
       "      <td>1.065951</td>\n",
       "      <td>Owner</td>\n",
       "    </tr>\n",
       "    <tr>\n",
       "      <th>3</th>\n",
       "      <td>4.510797</td>\n",
       "      <td>Fuel_Type_Diesel</td>\n",
       "    </tr>\n",
       "    <tr>\n",
       "      <th>4</th>\n",
       "      <td>11.538497</td>\n",
       "      <td>Fuel_Type_Petrol</td>\n",
       "    </tr>\n",
       "    <tr>\n",
       "      <th>5</th>\n",
       "      <td>2.220313</td>\n",
       "      <td>Seller_Type_Individual</td>\n",
       "    </tr>\n",
       "    <tr>\n",
       "      <th>6</th>\n",
       "      <td>8.164862</td>\n",
       "      <td>Transmission_Manual</td>\n",
       "    </tr>\n",
       "  </tbody>\n",
       "</table>\n",
       "</div>"
      ],
      "text/plain": [
       "         VIF                Features\n",
       "0   3.176656           Present_Price\n",
       "1   2.021693              Kms_Driven\n",
       "2   1.065951                   Owner\n",
       "3   4.510797        Fuel_Type_Diesel\n",
       "4  11.538497        Fuel_Type_Petrol\n",
       "5   2.220313  Seller_Type_Individual\n",
       "6   8.164862     Transmission_Manual"
      ]
     },
     "execution_count": 52,
     "metadata": {},
     "output_type": "execute_result"
    }
   ],
   "source": [
    "from statsmodels.stats.outliers_influence import variance_inflation_factor \n",
    "variables=clean_data[['Present_Price','Kms_Driven','Owner','Fuel_Type_Diesel','Fuel_Type_Petrol','Seller_Type_Individual','Transmission_Manual']] \n",
    "vif=pd.DataFrame() \n",
    "vif[\"VIF\"]=[variance_inflation_factor(variables.values,i) for i in range(variables.shape[1])] \n",
    "vif[\"Features\"]=variables.columns \n",
    "vif \n"
   ]
  },
  {
   "cell_type": "code",
   "execution_count": 53,
   "metadata": {},
   "outputs": [],
   "source": [
    "data_no_multicollinearity=clean_data.drop('Fuel_Type_Petrol',axis=1) "
   ]
  },
  {
   "cell_type": "markdown",
   "metadata": {},
   "source": [
    "# Linear Regression"
   ]
  },
  {
   "cell_type": "code",
   "execution_count": 63,
   "metadata": {},
   "outputs": [],
   "source": [
    "x=data_no_multicollinearity.drop('Selling_Price',axis=1) \n",
    "y=data_no_multicollinearity['Selling_Price']"
   ]
  },
  {
   "cell_type": "code",
   "execution_count": 64,
   "metadata": {},
   "outputs": [
    {
     "data": {
      "text/plain": [
       "StandardScaler()"
      ]
     },
     "execution_count": 64,
     "metadata": {},
     "output_type": "execute_result"
    }
   ],
   "source": [
    "from sklearn.preprocessing import StandardScaler \n",
    "scaler=StandardScaler() \n",
    "scaler.fit(data[['Present_Price','Kms_Driven']]) \n"
   ]
  },
  {
   "cell_type": "code",
   "execution_count": 65,
   "metadata": {},
   "outputs": [],
   "source": [
    "from sklearn.model_selection import train_test_split \n",
    "x_train,x_test,y_train,y_test=train_test_split(x,y,test_size=0.2,random_state=0) \n",
    "from sklearn.linear_model import LinearRegression \n",
    "lr=LinearRegression() \n",
    "lr.fit(x_train,y_train) \n",
    "y_pred=lr.predict(x_test) "
   ]
  },
  {
   "cell_type": "code",
   "execution_count": 66,
   "metadata": {},
   "outputs": [
    {
     "data": {
      "text/plain": [
       "array([ 6.88666842,  0.96177858,  3.87618829,  8.3676602 , 14.02609416,\n",
       "        4.38149177,  4.11805087,  0.94966383,  6.04172767,  5.18336799,\n",
       "        3.46214813,  1.12669482,  3.9701466 ,  7.70476221,  7.84448807,\n",
       "       13.29361777,  7.10329234,  4.00261138,  0.5610676 ,  1.47082088,\n",
       "        6.17971425,  2.76386294,  7.04326678,  7.21057306, -0.18159059,\n",
       "        0.98820123, -0.47496988,  0.75740861,  0.88603315,  8.69839034,\n",
       "        4.31985244,  7.37056281,  0.63899114,  7.5203616 ,  4.7445977 ,\n",
       "        1.18714693,  4.88848751,  6.68072744, -1.03009567,  8.77082038,\n",
       "        8.28691644, 20.23953958,  4.29175412,  2.69349217,  6.6653305 ,\n",
       "        9.16128607,  0.36515096,  1.10517289,  5.01830361,  7.13280491,\n",
       "        8.58013445,  3.59750298,  4.68638123, 20.11601858,  0.99568938,\n",
       "        0.81848939,  0.73965333,  2.68138886,  3.3199768 ,  0.29095785,\n",
       "        6.17496901])"
      ]
     },
     "execution_count": 66,
     "metadata": {},
     "output_type": "execute_result"
    }
   ],
   "source": [
    "y_pred "
   ]
  },
  {
   "cell_type": "code",
   "execution_count": 67,
   "metadata": {},
   "outputs": [
    {
     "data": {
      "text/plain": [
       "223     8.25\n",
       "150     0.50\n",
       "226     5.25\n",
       "296     9.50\n",
       "52     18.00\n",
       "       ...  \n",
       "137     0.65\n",
       "227     2.55\n",
       "26      4.15\n",
       "106     1.35\n",
       "92      3.51\n",
       "Name: Selling_Price, Length: 61, dtype: float64"
      ]
     },
     "execution_count": 67,
     "metadata": {},
     "output_type": "execute_result"
    }
   ],
   "source": [
    "y_test "
   ]
  },
  {
   "cell_type": "code",
   "execution_count": 68,
   "metadata": {},
   "outputs": [],
   "source": [
    "from sklearn.metrics import mean_squared_error,r2_score"
   ]
  },
  {
   "cell_type": "code",
   "execution_count": 69,
   "metadata": {},
   "outputs": [],
   "source": [
    "r_squared=r2_score(y_test,y_pred) "
   ]
  },
  {
   "cell_type": "code",
   "execution_count": 71,
   "metadata": {},
   "outputs": [
    {
     "data": {
      "text/plain": [
       "0.8794969037706871"
      ]
     },
     "execution_count": 71,
     "metadata": {},
     "output_type": "execute_result"
    }
   ],
   "source": [
    "r_squared "
   ]
  },
  {
   "cell_type": "code",
   "execution_count": 72,
   "metadata": {},
   "outputs": [],
   "source": [
    "mse=mean_squared_error(y_test,y_pred)"
   ]
  },
  {
   "cell_type": "markdown",
   "metadata": {},
   "source": [
    "# Decision Tree"
   ]
  },
  {
   "cell_type": "code",
   "execution_count": 78,
   "metadata": {},
   "outputs": [
    {
     "data": {
      "text/plain": [
       "array([ 4.95 ,  0.4  ,  4.4  ,  7.25 , 14.25 ,  5.3  ,  2.9  ,  0.25 ,\n",
       "        5.75 ,  5.225,  2.   ,  0.9  ,  4.85 ,  6.7  ,  7.75 , 14.25 ,\n",
       "        6.4  ,  2.9  ,  0.45 ,  1.65 ,  2.95 ,  4.9  ,  5.225,  9.7  ,\n",
       "        0.2  ,  0.4  ,  0.2  ,  0.45 ,  0.45 ,  3.8  ,  3.95 ,  5.95 ,\n",
       "        0.45 ,  6.5  ,  4.1  ,  1.05 ,  6.25 ,  2.65 ,  0.2  , 11.25 ,\n",
       "        7.25 , 23.   ,  5.3  ,  4.4  ,  5.5  , 12.5  ,  0.5  ,  0.4  ,\n",
       "        5.   ,  7.45 ,  8.99 ,  3.1  ,  4.95 , 23.   ,  1.11 ,  1.1  ,\n",
       "        0.55 ,  2.9  ,  4.   ,  3.   ,  5.5  ])"
      ]
     },
     "execution_count": 78,
     "metadata": {},
     "output_type": "execute_result"
    }
   ],
   "source": [
    "y_pred1=dr.predict(x_test) \n",
    "y_pred1"
   ]
  },
  {
   "cell_type": "code",
   "execution_count": 75,
   "metadata": {},
   "outputs": [
    {
     "data": {
      "text/plain": [
       "DecisionTreeRegressor(random_state=0)"
      ]
     },
     "execution_count": 75,
     "metadata": {},
     "output_type": "execute_result"
    }
   ],
   "source": [
    "from sklearn.tree import DecisionTreeRegressor,plot_tree\n",
    "dr=DecisionTreeRegressor(random_state=0) \n",
    "dr.fit(x_train,y_train)  \n",
    "DecisionTreeRegressor(random_state=0) \n"
   ]
  },
  {
   "cell_type": "code",
   "execution_count": 79,
   "metadata": {},
   "outputs": [
    {
     "data": {
      "text/plain": [
       "223     8.25\n",
       "150     0.50\n",
       "226     5.25\n",
       "296     9.50\n",
       "52     18.00\n",
       "       ...  \n",
       "137     0.65\n",
       "227     2.55\n",
       "26      4.15\n",
       "106     1.35\n",
       "92      3.51\n",
       "Name: Selling_Price, Length: 61, dtype: float64"
      ]
     },
     "execution_count": 79,
     "metadata": {},
     "output_type": "execute_result"
    }
   ],
   "source": [
    "y_test"
   ]
  },
  {
   "cell_type": "code",
   "execution_count": 81,
   "metadata": {},
   "outputs": [
    {
     "data": {
      "text/plain": [
       "0.9217684905387656"
      ]
     },
     "execution_count": 81,
     "metadata": {},
     "output_type": "execute_result"
    }
   ],
   "source": [
    "r_squared=r2_score(y_test,y_pred1)\n",
    "r_squared \n"
   ]
  },
  {
   "cell_type": "code",
   "execution_count": 83,
   "metadata": {},
   "outputs": [
    {
     "data": {
      "text/plain": [
       "1.977482786885246"
      ]
     },
     "execution_count": 83,
     "metadata": {},
     "output_type": "execute_result"
    }
   ],
   "source": [
    "mse=mean_squared_error(y_test,y_pred1) \n",
    "mse "
   ]
  },
  {
   "cell_type": "code",
   "execution_count": 85,
   "metadata": {},
   "outputs": [
    {
     "data": {
      "text/plain": [
       "[Text(469.65000000000003, 365.88461538461536, 'X[0] <= 7.775\\nmse = 18.787\\nsamples = 61\\nvalue = 4.939'),\n",
       " Text(224.75, 336.6138461538461, 'X[4] <= 0.5\\nmse = 3.139\\nsamples = 34\\nvalue = 2.075'),\n",
       " Text(111.60000000000001, 307.3430769230769, 'X[5] <= 0.5\\nmse = 0.736\\nsamples = 15\\nvalue = 3.894'),\n",
       " Text(99.2, 278.0723076923077, 'mse = 0.0\\nsamples = 1\\nvalue = 6.042'),\n",
       " Text(124.0, 278.0723076923077, 'X[0] <= 7.415\\nmse = 0.436\\nsamples = 14\\nvalue = 3.74'),\n",
       " Text(111.60000000000001, 248.80153846153846, 'X[0] <= 6.96\\nmse = 0.36\\nsamples = 13\\nvalue = 3.652'),\n",
       " Text(99.2, 219.5307692307692, 'X[0] <= 5.92\\nmse = 0.307\\nsamples = 12\\nvalue = 3.732'),\n",
       " Text(74.4, 190.26, 'X[1] <= 56069.0\\nmse = 0.281\\nsamples = 8\\nvalue = 3.495'),\n",
       " Text(62.0, 160.98923076923077, 'X[2] <= 0.5\\nmse = 0.212\\nsamples = 7\\nvalue = 3.612'),\n",
       " Text(49.6, 131.71846153846153, 'X[1] <= 8496.0\\nmse = 0.108\\nsamples = 6\\nvalue = 3.753'),\n",
       " Text(37.2, 102.44769230769231, 'mse = 0.0\\nsamples = 1\\nvalue = 4.292'),\n",
       " Text(62.0, 102.44769230769231, 'X[1] <= 39908.0\\nmse = 0.06\\nsamples = 5\\nvalue = 3.645'),\n",
       " Text(49.6, 73.17692307692306, 'X[0] <= 5.15\\nmse = 0.042\\nsamples = 4\\nvalue = 3.726'),\n",
       " Text(24.8, 43.90615384615387, 'X[1] <= 17508.5\\nmse = 0.005\\nsamples = 2\\nvalue = 3.53'),\n",
       " Text(12.4, 14.635384615384623, 'mse = 0.0\\nsamples = 1\\nvalue = 3.598'),\n",
       " Text(37.2, 14.635384615384623, 'mse = 0.0\\nsamples = 1\\nvalue = 3.462'),\n",
       " Text(74.4, 43.90615384615387, 'X[1] <= 22396.0\\nmse = 0.002\\nsamples = 2\\nvalue = 3.923'),\n",
       " Text(62.0, 14.635384615384623, 'mse = 0.0\\nsamples = 1\\nvalue = 3.97'),\n",
       " Text(86.8, 14.635384615384623, 'mse = -0.0\\nsamples = 1\\nvalue = 3.876'),\n",
       " Text(74.4, 73.17692307692306, 'mse = -0.0\\nsamples = 1\\nvalue = 3.32'),\n",
       " Text(74.4, 131.71846153846153, 'mse = -0.0\\nsamples = 1\\nvalue = 2.764'),\n",
       " Text(86.8, 160.98923076923077, 'mse = 0.0\\nsamples = 1\\nvalue = 2.681'),\n",
       " Text(124.0, 190.26, 'X[0] <= 6.365\\nmse = 0.023\\nsamples = 4\\nvalue = 4.206'),\n",
       " Text(111.60000000000001, 160.98923076923077, 'mse = 0.0\\nsamples = 1\\nvalue = 4.381'),\n",
       " Text(136.4, 160.98923076923077, 'X[3] <= 0.5\\nmse = 0.017\\nsamples = 3\\nvalue = 4.147'),\n",
       " Text(124.0, 131.71846153846153, 'X[1] <= 37500.0\\nmse = 0.003\\nsamples = 2\\nvalue = 4.06'),\n",
       " Text(111.60000000000001, 102.44769230769231, 'mse = 0.0\\nsamples = 1\\nvalue = 4.118'),\n",
       " Text(136.4, 102.44769230769231, 'mse = 0.0\\nsamples = 1\\nvalue = 4.003'),\n",
       " Text(148.8, 131.71846153846153, 'mse = -0.0\\nsamples = 1\\nvalue = 4.32'),\n",
       " Text(124.0, 219.5307692307692, 'mse = 0.0\\nsamples = 1\\nvalue = 2.693'),\n",
       " Text(136.4, 248.80153846153846, 'mse = -0.0\\nsamples = 1\\nvalue = 4.888'),\n",
       " Text(337.90000000000003, 307.3430769230769, 'X[1] <= 25500.0\\nmse = 0.364\\nsamples = 19\\nvalue = 0.64'),\n",
       " Text(279.0, 278.0723076923077, 'X[1] <= 10850.0\\nmse = 0.077\\nsamples = 13\\nvalue = 0.931'),\n",
       " Text(235.6, 248.80153846153846, 'X[0] <= 1.66\\nmse = 0.028\\nsamples = 7\\nvalue = 1.113'),\n",
       " Text(223.20000000000002, 219.5307692307692, 'X[0] <= 0.895\\nmse = 0.008\\nsamples = 6\\nvalue = 1.053'),\n",
       " Text(198.4, 190.26, 'X[0] <= 0.833\\nmse = 0.0\\nsamples = 3\\nvalue = 0.967'),\n",
       " Text(186.0, 160.98923076923077, 'X[1] <= 3500.0\\nmse = 0.0\\nsamples = 2\\nvalue = 0.956'),\n",
       " Text(173.6, 131.71846153846153, 'mse = 0.0\\nsamples = 1\\nvalue = 0.95'),\n",
       " Text(198.4, 131.71846153846153, 'mse = 0.0\\nsamples = 1\\nvalue = 0.962'),\n",
       " Text(210.8, 160.98923076923077, 'mse = -0.0\\nsamples = 1\\nvalue = 0.988'),\n",
       " Text(248.0, 190.26, 'X[1] <= 7350.0\\nmse = 0.001\\nsamples = 3\\nvalue = 1.14'),\n",
       " Text(235.6, 160.98923076923077, 'X[1] <= 3250.0\\nmse = 0.0\\nsamples = 2\\nvalue = 1.116'),\n",
       " Text(223.20000000000002, 131.71846153846153, 'mse = 0.0\\nsamples = 1\\nvalue = 1.127'),\n",
       " Text(248.0, 131.71846153846153, 'mse = 0.0\\nsamples = 1\\nvalue = 1.105'),\n",
       " Text(260.40000000000003, 160.98923076923077, 'mse = 0.0\\nsamples = 1\\nvalue = 1.187'),\n",
       " Text(248.0, 219.5307692307692, 'mse = 0.0\\nsamples = 1\\nvalue = 1.471'),\n",
       " Text(322.40000000000003, 248.80153846153846, 'X[2] <= 0.5\\nmse = 0.049\\nsamples = 6\\nvalue = 0.718'),\n",
       " Text(310.0, 219.5307692307692, 'X[0] <= 1.35\\nmse = 0.015\\nsamples = 5\\nvalue = 0.804'),\n",
       " Text(297.6, 190.26, 'X[1] <= 14500.0\\nmse = 0.008\\nsamples = 4\\nvalue = 0.756'),\n",
       " Text(285.2, 160.98923076923077, 'mse = 0.0\\nsamples = 1\\nvalue = 0.886'),\n",
       " Text(310.0, 160.98923076923077, 'X[1] <= 24250.0\\nmse = 0.003\\nsamples = 3\\nvalue = 0.712'),\n",
       " Text(297.6, 131.71846153846153, 'X[0] <= 0.994\\nmse = 0.0\\nsamples = 2\\nvalue = 0.749'),\n",
       " Text(285.2, 102.44769230769231, 'mse = 0.0\\nsamples = 1\\nvalue = 0.74'),\n",
       " Text(310.0, 102.44769230769231, 'mse = 0.0\\nsamples = 1\\nvalue = 0.757'),\n",
       " Text(322.40000000000003, 131.71846153846153, 'mse = -0.0\\nsamples = 1\\nvalue = 0.639'),\n",
       " Text(322.40000000000003, 190.26, 'mse = 0.0\\nsamples = 1\\nvalue = 0.996'),\n",
       " Text(334.8, 219.5307692307692, 'mse = 0.0\\nsamples = 1\\nvalue = 0.291'),\n",
       " Text(396.8, 278.0723076923077, 'X[0] <= 0.918\\nmse = 0.406\\nsamples = 6\\nvalue = 0.01'),\n",
       " Text(372.0, 248.80153846153846, 'X[2] <= 0.5\\nmse = 0.254\\nsamples = 4\\nvalue = -0.33'),\n",
       " Text(359.6, 219.5307692307692, 'X[1] <= 45000.0\\nmse = 0.121\\nsamples = 3\\nvalue = -0.097'),\n",
       " Text(347.2, 190.26, 'mse = 0.0\\nsamples = 1\\nvalue = 0.365'),\n",
       " Text(372.0, 190.26, 'X[0] <= 0.769\\nmse = 0.022\\nsamples = 2\\nvalue = -0.328'),\n",
       " Text(359.6, 160.98923076923077, 'mse = 0.0\\nsamples = 1\\nvalue = -0.182'),\n",
       " Text(384.40000000000003, 160.98923076923077, 'mse = 0.0\\nsamples = 1\\nvalue = -0.475'),\n",
       " Text(384.40000000000003, 219.5307692307692, 'mse = 0.0\\nsamples = 1\\nvalue = -1.03'),\n",
       " Text(421.6, 248.80153846153846, 'X[1] <= 28000.0\\nmse = 0.017\\nsamples = 2\\nvalue = 0.69'),\n",
       " Text(409.2, 219.5307692307692, 'mse = 0.0\\nsamples = 1\\nvalue = 0.818'),\n",
       " Text(434.0, 219.5307692307692, 'mse = 0.0\\nsamples = 1\\nvalue = 0.561'),\n",
       " Text(714.5500000000001, 336.6138461538461, 'X[0] <= 17.405\\nmse = 15.169\\nsamples = 27\\nvalue = 8.544'),\n",
       " Text(641.7, 307.3430769230769, 'X[0] <= 10.395\\nmse = 1.629\\nsamples = 23\\nvalue = 7.088'),\n",
       " Text(570.4, 278.0723076923077, 'X[1] <= 49000.0\\nmse = 1.205\\nsamples = 15\\nvalue = 6.547'),\n",
       " Text(508.40000000000003, 248.80153846153846, 'X[1] <= 34764.5\\nmse = 0.606\\nsamples = 10\\nvalue = 7.069'),\n",
       " Text(458.8, 219.5307692307692, 'X[1] <= 8535.5\\nmse = 0.188\\nsamples = 5\\nvalue = 7.55'),\n",
       " Text(446.40000000000003, 190.26, 'mse = 0.0\\nsamples = 1\\nvalue = 8.287'),\n",
       " Text(471.2, 190.26, 'X[0] <= 8.75\\nmse = 0.065\\nsamples = 4\\nvalue = 7.365'),\n",
       " Text(446.40000000000003, 160.98923076923077, 'X[1] <= 24244.0\\nmse = 0.0\\nsamples = 2\\nvalue = 7.118'),\n",
       " Text(434.0, 131.71846153846153, 'mse = 0.0\\nsamples = 1\\nvalue = 7.103'),\n",
       " Text(458.8, 131.71846153846153, 'mse = -0.0\\nsamples = 1\\nvalue = 7.133'),\n",
       " Text(496.0, 160.98923076923077, 'X[0] <= 9.415\\nmse = 0.009\\nsamples = 2\\nvalue = 7.613'),\n",
       " Text(483.6, 131.71846153846153, 'mse = 0.0\\nsamples = 1\\nvalue = 7.52'),\n",
       " Text(508.40000000000003, 131.71846153846153, 'mse = -0.0\\nsamples = 1\\nvalue = 7.705'),\n",
       " Text(558.0, 219.5307692307692, 'X[1] <= 36149.0\\nmse = 0.561\\nsamples = 5\\nvalue = 6.589'),\n",
       " Text(545.6, 190.26, 'mse = 0.0\\nsamples = 1\\nvalue = 5.183'),\n",
       " Text(570.4, 190.26, 'X[0] <= 8.73\\nmse = 0.085\\nsamples = 4\\nvalue = 6.94'),\n",
       " Text(545.6, 160.98923076923077, 'X[0] <= 7.955\\nmse = 0.0\\nsamples = 2\\nvalue = 6.673'),\n",
       " Text(533.2, 131.71846153846153, 'mse = 0.0\\nsamples = 1\\nvalue = 6.681'),\n",
       " Text(558.0, 131.71846153846153, 'mse = 0.0\\nsamples = 1\\nvalue = 6.665'),\n",
       " Text(595.2, 160.98923076923077, 'X[1] <= 42099.0\\nmse = 0.027\\nsamples = 2\\nvalue = 7.207'),\n",
       " Text(582.8000000000001, 131.71846153846153, 'mse = 0.0\\nsamples = 1\\nvalue = 7.043'),\n",
       " Text(607.6, 131.71846153846153, 'mse = 0.0\\nsamples = 1\\nvalue = 7.371'),\n",
       " Text(632.4, 248.80153846153846, 'X[3] <= 0.5\\nmse = 0.77\\nsamples = 5\\nvalue = 5.503'),\n",
       " Text(620.0, 219.5307692307692, 'X[5] <= 0.5\\nmse = 0.364\\nsamples = 4\\nvalue = 5.157'),\n",
       " Text(607.6, 190.26, 'mse = 0.0\\nsamples = 1\\nvalue = 6.18'),\n",
       " Text(632.4, 190.26, 'X[1] <= 57241.5\\nmse = 0.021\\nsamples = 3\\nvalue = 4.816'),\n",
       " Text(620.0, 160.98923076923077, 'mse = 0.0\\nsamples = 1\\nvalue = 5.018'),\n",
       " Text(644.8000000000001, 160.98923076923077, 'X[1] <= 64901.5\\nmse = 0.001\\nsamples = 2\\nvalue = 4.715'),\n",
       " Text(632.4, 131.71846153846153, 'mse = 0.0\\nsamples = 1\\nvalue = 4.686'),\n",
       " Text(657.2, 131.71846153846153, 'mse = 0.0\\nsamples = 1\\nvalue = 4.745'),\n",
       " Text(644.8000000000001, 219.5307692307692, 'mse = 0.0\\nsamples = 1\\nvalue = 6.887'),\n",
       " Text(713.0, 278.0723076923077, 'X[1] <= 72500.0\\nmse = 0.85\\nsamples = 8\\nvalue = 8.101'),\n",
       " Text(700.6, 248.80153846153846, 'X[1] <= 28329.5\\nmse = 0.366\\nsamples = 7\\nvalue = 8.376'),\n",
       " Text(669.6, 219.5307692307692, 'X[0] <= 12.82\\nmse = 0.469\\nsamples = 2\\nvalue = 7.895'),\n",
       " Text(657.2, 190.26, 'mse = 0.0\\nsamples = 1\\nvalue = 8.58'),\n",
       " Text(682.0, 190.26, 'mse = 0.0\\nsamples = 1\\nvalue = 7.211'),\n",
       " Text(731.6, 219.5307692307692, 'X[0] <= 12.6\\nmse = 0.195\\nsamples = 5\\nvalue = 8.569'),\n",
       " Text(706.8000000000001, 190.26, 'X[0] <= 11.195\\nmse = 0.068\\nsamples = 2\\nvalue = 8.106'),\n",
       " Text(694.4, 160.98923076923077, 'mse = 0.0\\nsamples = 1\\nvalue = 7.844'),\n",
       " Text(719.2, 160.98923076923077, 'mse = 0.0\\nsamples = 1\\nvalue = 8.368'),\n",
       " Text(756.4, 190.26, 'X[1] <= 49467.0\\nmse = 0.041\\nsamples = 3\\nvalue = 8.877'),\n",
       " Text(744.0, 160.98923076923077, 'mse = 0.0\\nsamples = 1\\nvalue = 9.161'),\n",
       " Text(768.8000000000001, 160.98923076923077, 'X[3] <= 0.5\\nmse = 0.001\\nsamples = 2\\nvalue = 8.735'),\n",
       " Text(756.4, 131.71846153846153, 'mse = 0.0\\nsamples = 1\\nvalue = 8.698'),\n",
       " Text(781.2, 131.71846153846153, 'mse = -0.0\\nsamples = 1\\nvalue = 8.771'),\n",
       " Text(725.4, 248.80153846153846, 'mse = -0.0\\nsamples = 1\\nvalue = 6.175'),\n",
       " Text(787.4, 307.3430769230769, 'X[0] <= 29.555\\nmse = 10.69\\nsamples = 4\\nvalue = 16.919'),\n",
       " Text(762.6, 278.0723076923077, 'X[0] <= 21.46\\nmse = 0.134\\nsamples = 2\\nvalue = 13.66'),\n",
       " Text(750.2, 248.80153846153846, 'mse = 0.0\\nsamples = 1\\nvalue = 14.026'),\n",
       " Text(775.0, 248.80153846153846, 'mse = 0.0\\nsamples = 1\\nvalue = 13.294'),\n",
       " Text(812.2, 278.0723076923077, 'X[1] <= 44000.0\\nmse = 0.004\\nsamples = 2\\nvalue = 20.178'),\n",
       " Text(799.8000000000001, 248.80153846153846, 'mse = 0.0\\nsamples = 1\\nvalue = 20.24'),\n",
       " Text(824.6, 248.80153846153846, 'mse = -0.0\\nsamples = 1\\nvalue = 20.116')]"
      ]
     },
     "execution_count": 85,
     "metadata": {},
     "output_type": "execute_result"
    },
    {
     "data": {
      "image/png": "[encoded data removed]",
      "text/plain": [
       "<Figure size 1080x504 with 1 Axes>"
      ]
     },
     "metadata": {
      "needs_background": "light"
     },
     "output_type": "display_data"
    }
   ],
   "source": [
    "df=dr.fit(x_test,y_pred) \n",
    "plt.figure(figsize=(15,7)) \n",
    "plot_tree(df,filled=True)"
   ]
  },
  {
   "cell_type": "code",
   "execution_count": 86,
   "metadata": {},
   "outputs": [
    {
     "data": {
      "text/plain": [
       "[Text(469.65000000000003, 365.88461538461536, 'X[0] <= 7.775\\nmse = 18.787\\nsamples = 61\\nvalue = 4.939'),\n",
       " Text(224.75, 336.6138461538461, 'X[4] <= 0.5\\nmse = 3.139\\nsamples = 34\\nvalue = 2.075'),\n",
       " Text(111.60000000000001, 307.3430769230769, 'X[5] <= 0.5\\nmse = 0.736\\nsamples = 15\\nvalue = 3.894'),\n",
       " Text(99.2, 278.0723076923077, 'mse = 0.0\\nsamples = 1\\nvalue = 6.042'),\n",
       " Text(124.0, 278.0723076923077, 'X[0] <= 7.415\\nmse = 0.436\\nsamples = 14\\nvalue = 3.74'),\n",
       " Text(111.60000000000001, 248.80153846153846, 'X[0] <= 6.96\\nmse = 0.36\\nsamples = 13\\nvalue = 3.652'),\n",
       " Text(99.2, 219.5307692307692, 'X[0] <= 5.92\\nmse = 0.307\\nsamples = 12\\nvalue = 3.732'),\n",
       " Text(74.4, 190.26, 'X[1] <= 56069.0\\nmse = 0.281\\nsamples = 8\\nvalue = 3.495'),\n",
       " Text(62.0, 160.98923076923077, 'X[2] <= 0.5\\nmse = 0.212\\nsamples = 7\\nvalue = 3.612'),\n",
       " Text(49.6, 131.71846153846153, 'X[1] <= 8496.0\\nmse = 0.108\\nsamples = 6\\nvalue = 3.753'),\n",
       " Text(37.2, 102.44769230769231, 'mse = 0.0\\nsamples = 1\\nvalue = 4.292'),\n",
       " Text(62.0, 102.44769230769231, 'X[1] <= 39908.0\\nmse = 0.06\\nsamples = 5\\nvalue = 3.645'),\n",
       " Text(49.6, 73.17692307692306, 'X[0] <= 5.15\\nmse = 0.042\\nsamples = 4\\nvalue = 3.726'),\n",
       " Text(24.8, 43.90615384615387, 'X[1] <= 17508.5\\nmse = 0.005\\nsamples = 2\\nvalue = 3.53'),\n",
       " Text(12.4, 14.635384615384623, 'mse = 0.0\\nsamples = 1\\nvalue = 3.598'),\n",
       " Text(37.2, 14.635384615384623, 'mse = 0.0\\nsamples = 1\\nvalue = 3.462'),\n",
       " Text(74.4, 43.90615384615387, 'X[1] <= 22396.0\\nmse = 0.002\\nsamples = 2\\nvalue = 3.923'),\n",
       " Text(62.0, 14.635384615384623, 'mse = 0.0\\nsamples = 1\\nvalue = 3.97'),\n",
       " Text(86.8, 14.635384615384623, 'mse = -0.0\\nsamples = 1\\nvalue = 3.876'),\n",
       " Text(74.4, 73.17692307692306, 'mse = -0.0\\nsamples = 1\\nvalue = 3.32'),\n",
       " Text(74.4, 131.71846153846153, 'mse = -0.0\\nsamples = 1\\nvalue = 2.764'),\n",
       " Text(86.8, 160.98923076923077, 'mse = 0.0\\nsamples = 1\\nvalue = 2.681'),\n",
       " Text(124.0, 190.26, 'X[0] <= 6.365\\nmse = 0.023\\nsamples = 4\\nvalue = 4.206'),\n",
       " Text(111.60000000000001, 160.98923076923077, 'mse = 0.0\\nsamples = 1\\nvalue = 4.381'),\n",
       " Text(136.4, 160.98923076923077, 'X[3] <= 0.5\\nmse = 0.017\\nsamples = 3\\nvalue = 4.147'),\n",
       " Text(124.0, 131.71846153846153, 'X[1] <= 37500.0\\nmse = 0.003\\nsamples = 2\\nvalue = 4.06'),\n",
       " Text(111.60000000000001, 102.44769230769231, 'mse = 0.0\\nsamples = 1\\nvalue = 4.118'),\n",
       " Text(136.4, 102.44769230769231, 'mse = 0.0\\nsamples = 1\\nvalue = 4.003'),\n",
       " Text(148.8, 131.71846153846153, 'mse = -0.0\\nsamples = 1\\nvalue = 4.32'),\n",
       " Text(124.0, 219.5307692307692, 'mse = 0.0\\nsamples = 1\\nvalue = 2.693'),\n",
       " Text(136.4, 248.80153846153846, 'mse = -0.0\\nsamples = 1\\nvalue = 4.888'),\n",
       " Text(337.90000000000003, 307.3430769230769, 'X[1] <= 25500.0\\nmse = 0.364\\nsamples = 19\\nvalue = 0.64'),\n",
       " Text(279.0, 278.0723076923077, 'X[1] <= 10850.0\\nmse = 0.077\\nsamples = 13\\nvalue = 0.931'),\n",
       " Text(235.6, 248.80153846153846, 'X[0] <= 1.66\\nmse = 0.028\\nsamples = 7\\nvalue = 1.113'),\n",
       " Text(223.20000000000002, 219.5307692307692, 'X[0] <= 0.895\\nmse = 0.008\\nsamples = 6\\nvalue = 1.053'),\n",
       " Text(198.4, 190.26, 'X[0] <= 0.833\\nmse = 0.0\\nsamples = 3\\nvalue = 0.967'),\n",
       " Text(186.0, 160.98923076923077, 'X[1] <= 3500.0\\nmse = 0.0\\nsamples = 2\\nvalue = 0.956'),\n",
       " Text(173.6, 131.71846153846153, 'mse = 0.0\\nsamples = 1\\nvalue = 0.95'),\n",
       " Text(198.4, 131.71846153846153, 'mse = 0.0\\nsamples = 1\\nvalue = 0.962'),\n",
       " Text(210.8, 160.98923076923077, 'mse = -0.0\\nsamples = 1\\nvalue = 0.988'),\n",
       " Text(248.0, 190.26, 'X[1] <= 7350.0\\nmse = 0.001\\nsamples = 3\\nvalue = 1.14'),\n",
       " Text(235.6, 160.98923076923077, 'X[1] <= 3250.0\\nmse = 0.0\\nsamples = 2\\nvalue = 1.116'),\n",
       " Text(223.20000000000002, 131.71846153846153, 'mse = 0.0\\nsamples = 1\\nvalue = 1.127'),\n",
       " Text(248.0, 131.71846153846153, 'mse = 0.0\\nsamples = 1\\nvalue = 1.105'),\n",
       " Text(260.40000000000003, 160.98923076923077, 'mse = 0.0\\nsamples = 1\\nvalue = 1.187'),\n",
       " Text(248.0, 219.5307692307692, 'mse = 0.0\\nsamples = 1\\nvalue = 1.471'),\n",
       " Text(322.40000000000003, 248.80153846153846, 'X[2] <= 0.5\\nmse = 0.049\\nsamples = 6\\nvalue = 0.718'),\n",
       " Text(310.0, 219.5307692307692, 'X[0] <= 1.35\\nmse = 0.015\\nsamples = 5\\nvalue = 0.804'),\n",
       " Text(297.6, 190.26, 'X[1] <= 14500.0\\nmse = 0.008\\nsamples = 4\\nvalue = 0.756'),\n",
       " Text(285.2, 160.98923076923077, 'mse = 0.0\\nsamples = 1\\nvalue = 0.886'),\n",
       " Text(310.0, 160.98923076923077, 'X[1] <= 24250.0\\nmse = 0.003\\nsamples = 3\\nvalue = 0.712'),\n",
       " Text(297.6, 131.71846153846153, 'X[0] <= 0.994\\nmse = 0.0\\nsamples = 2\\nvalue = 0.749'),\n",
       " Text(285.2, 102.44769230769231, 'mse = 0.0\\nsamples = 1\\nvalue = 0.74'),\n",
       " Text(310.0, 102.44769230769231, 'mse = 0.0\\nsamples = 1\\nvalue = 0.757'),\n",
       " Text(322.40000000000003, 131.71846153846153, 'mse = -0.0\\nsamples = 1\\nvalue = 0.639'),\n",
       " Text(322.40000000000003, 190.26, 'mse = 0.0\\nsamples = 1\\nvalue = 0.996'),\n",
       " Text(334.8, 219.5307692307692, 'mse = 0.0\\nsamples = 1\\nvalue = 0.291'),\n",
       " Text(396.8, 278.0723076923077, 'X[0] <= 0.918\\nmse = 0.406\\nsamples = 6\\nvalue = 0.01'),\n",
       " Text(372.0, 248.80153846153846, 'X[2] <= 0.5\\nmse = 0.254\\nsamples = 4\\nvalue = -0.33'),\n",
       " Text(359.6, 219.5307692307692, 'X[1] <= 45000.0\\nmse = 0.121\\nsamples = 3\\nvalue = -0.097'),\n",
       " Text(347.2, 190.26, 'mse = 0.0\\nsamples = 1\\nvalue = 0.365'),\n",
       " Text(372.0, 190.26, 'X[0] <= 0.769\\nmse = 0.022\\nsamples = 2\\nvalue = -0.328'),\n",
       " Text(359.6, 160.98923076923077, 'mse = 0.0\\nsamples = 1\\nvalue = -0.182'),\n",
       " Text(384.40000000000003, 160.98923076923077, 'mse = 0.0\\nsamples = 1\\nvalue = -0.475'),\n",
       " Text(384.40000000000003, 219.5307692307692, 'mse = 0.0\\nsamples = 1\\nvalue = -1.03'),\n",
       " Text(421.6, 248.80153846153846, 'X[1] <= 28000.0\\nmse = 0.017\\nsamples = 2\\nvalue = 0.69'),\n",
       " Text(409.2, 219.5307692307692, 'mse = 0.0\\nsamples = 1\\nvalue = 0.818'),\n",
       " Text(434.0, 219.5307692307692, 'mse = 0.0\\nsamples = 1\\nvalue = 0.561'),\n",
       " Text(714.5500000000001, 336.6138461538461, 'X[0] <= 17.405\\nmse = 15.169\\nsamples = 27\\nvalue = 8.544'),\n",
       " Text(641.7, 307.3430769230769, 'X[0] <= 10.395\\nmse = 1.629\\nsamples = 23\\nvalue = 7.088'),\n",
       " Text(570.4, 278.0723076923077, 'X[1] <= 49000.0\\nmse = 1.205\\nsamples = 15\\nvalue = 6.547'),\n",
       " Text(508.40000000000003, 248.80153846153846, 'X[1] <= 34764.5\\nmse = 0.606\\nsamples = 10\\nvalue = 7.069'),\n",
       " Text(458.8, 219.5307692307692, 'X[1] <= 8535.5\\nmse = 0.188\\nsamples = 5\\nvalue = 7.55'),\n",
       " Text(446.40000000000003, 190.26, 'mse = 0.0\\nsamples = 1\\nvalue = 8.287'),\n",
       " Text(471.2, 190.26, 'X[0] <= 8.75\\nmse = 0.065\\nsamples = 4\\nvalue = 7.365'),\n",
       " Text(446.40000000000003, 160.98923076923077, 'X[1] <= 24244.0\\nmse = 0.0\\nsamples = 2\\nvalue = 7.118'),\n",
       " Text(434.0, 131.71846153846153, 'mse = 0.0\\nsamples = 1\\nvalue = 7.103'),\n",
       " Text(458.8, 131.71846153846153, 'mse = -0.0\\nsamples = 1\\nvalue = 7.133'),\n",
       " Text(496.0, 160.98923076923077, 'X[0] <= 9.415\\nmse = 0.009\\nsamples = 2\\nvalue = 7.613'),\n",
       " Text(483.6, 131.71846153846153, 'mse = 0.0\\nsamples = 1\\nvalue = 7.52'),\n",
       " Text(508.40000000000003, 131.71846153846153, 'mse = -0.0\\nsamples = 1\\nvalue = 7.705'),\n",
       " Text(558.0, 219.5307692307692, 'X[1] <= 36149.0\\nmse = 0.561\\nsamples = 5\\nvalue = 6.589'),\n",
       " Text(545.6, 190.26, 'mse = 0.0\\nsamples = 1\\nvalue = 5.183'),\n",
       " Text(570.4, 190.26, 'X[0] <= 8.73\\nmse = 0.085\\nsamples = 4\\nvalue = 6.94'),\n",
       " Text(545.6, 160.98923076923077, 'X[0] <= 7.955\\nmse = 0.0\\nsamples = 2\\nvalue = 6.673'),\n",
       " Text(533.2, 131.71846153846153, 'mse = 0.0\\nsamples = 1\\nvalue = 6.681'),\n",
       " Text(558.0, 131.71846153846153, 'mse = 0.0\\nsamples = 1\\nvalue = 6.665'),\n",
       " Text(595.2, 160.98923076923077, 'X[1] <= 42099.0\\nmse = 0.027\\nsamples = 2\\nvalue = 7.207'),\n",
       " Text(582.8000000000001, 131.71846153846153, 'mse = 0.0\\nsamples = 1\\nvalue = 7.043'),\n",
       " Text(607.6, 131.71846153846153, 'mse = 0.0\\nsamples = 1\\nvalue = 7.371'),\n",
       " Text(632.4, 248.80153846153846, 'X[3] <= 0.5\\nmse = 0.77\\nsamples = 5\\nvalue = 5.503'),\n",
       " Text(620.0, 219.5307692307692, 'X[5] <= 0.5\\nmse = 0.364\\nsamples = 4\\nvalue = 5.157'),\n",
       " Text(607.6, 190.26, 'mse = 0.0\\nsamples = 1\\nvalue = 6.18'),\n",
       " Text(632.4, 190.26, 'X[1] <= 57241.5\\nmse = 0.021\\nsamples = 3\\nvalue = 4.816'),\n",
       " Text(620.0, 160.98923076923077, 'mse = 0.0\\nsamples = 1\\nvalue = 5.018'),\n",
       " Text(644.8000000000001, 160.98923076923077, 'X[1] <= 64901.5\\nmse = 0.001\\nsamples = 2\\nvalue = 4.715'),\n",
       " Text(632.4, 131.71846153846153, 'mse = 0.0\\nsamples = 1\\nvalue = 4.686'),\n",
       " Text(657.2, 131.71846153846153, 'mse = 0.0\\nsamples = 1\\nvalue = 4.745'),\n",
       " Text(644.8000000000001, 219.5307692307692, 'mse = 0.0\\nsamples = 1\\nvalue = 6.887'),\n",
       " Text(713.0, 278.0723076923077, 'X[1] <= 72500.0\\nmse = 0.85\\nsamples = 8\\nvalue = 8.101'),\n",
       " Text(700.6, 248.80153846153846, 'X[1] <= 28329.5\\nmse = 0.366\\nsamples = 7\\nvalue = 8.376'),\n",
       " Text(669.6, 219.5307692307692, 'X[0] <= 12.82\\nmse = 0.469\\nsamples = 2\\nvalue = 7.895'),\n",
       " Text(657.2, 190.26, 'mse = 0.0\\nsamples = 1\\nvalue = 8.58'),\n",
       " Text(682.0, 190.26, 'mse = 0.0\\nsamples = 1\\nvalue = 7.211'),\n",
       " Text(731.6, 219.5307692307692, 'X[0] <= 12.6\\nmse = 0.195\\nsamples = 5\\nvalue = 8.569'),\n",
       " Text(706.8000000000001, 190.26, 'X[0] <= 11.195\\nmse = 0.068\\nsamples = 2\\nvalue = 8.106'),\n",
       " Text(694.4, 160.98923076923077, 'mse = 0.0\\nsamples = 1\\nvalue = 7.844'),\n",
       " Text(719.2, 160.98923076923077, 'mse = 0.0\\nsamples = 1\\nvalue = 8.368'),\n",
       " Text(756.4, 190.26, 'X[1] <= 49467.0\\nmse = 0.041\\nsamples = 3\\nvalue = 8.877'),\n",
       " Text(744.0, 160.98923076923077, 'mse = 0.0\\nsamples = 1\\nvalue = 9.161'),\n",
       " Text(768.8000000000001, 160.98923076923077, 'X[3] <= 0.5\\nmse = 0.001\\nsamples = 2\\nvalue = 8.735'),\n",
       " Text(756.4, 131.71846153846153, 'mse = 0.0\\nsamples = 1\\nvalue = 8.698'),\n",
       " Text(781.2, 131.71846153846153, 'mse = -0.0\\nsamples = 1\\nvalue = 8.771'),\n",
       " Text(725.4, 248.80153846153846, 'mse = -0.0\\nsamples = 1\\nvalue = 6.175'),\n",
       " Text(787.4, 307.3430769230769, 'X[0] <= 29.555\\nmse = 10.69\\nsamples = 4\\nvalue = 16.919'),\n",
       " Text(762.6, 278.0723076923077, 'X[0] <= 21.46\\nmse = 0.134\\nsamples = 2\\nvalue = 13.66'),\n",
       " Text(750.2, 248.80153846153846, 'mse = 0.0\\nsamples = 1\\nvalue = 14.026'),\n",
       " Text(775.0, 248.80153846153846, 'mse = 0.0\\nsamples = 1\\nvalue = 13.294'),\n",
       " Text(812.2, 278.0723076923077, 'X[1] <= 44000.0\\nmse = 0.004\\nsamples = 2\\nvalue = 20.178'),\n",
       " Text(799.8000000000001, 248.80153846153846, 'mse = 0.0\\nsamples = 1\\nvalue = 20.24'),\n",
       " Text(824.6, 248.80153846153846, 'mse = -0.0\\nsamples = 1\\nvalue = 20.116')]"
      ]
     },
     "execution_count": 86,
     "metadata": {},
     "output_type": "execute_result"
    },
    {
     "data": {
      "image/png": "[encoded data removed]",
      "text/plain": [
       "<Figure size 1080x504 with 1 Axes>"
      ]
     },
     "metadata": {
      "needs_background": "light"
     },
     "output_type": "display_data"
    }
   ],
   "source": [
    "df=dr.fit(x_test,y_pred) \n",
    "plt.figure(figsize=(15,7)) \n",
    "plot_tree(df,filled=True)"
   ]
  },
  {
   "cell_type": "code",
   "execution_count": 87,
   "metadata": {},
   "outputs": [
    {
     "data": {
      "text/plain": [
       "array([ 6.88666842,  0.96177858,  3.87618829,  8.3676602 , 14.02609416,\n",
       "        4.38149177,  4.11805087,  0.94966383,  6.04172767,  5.18336799,\n",
       "        3.46214813,  1.12669482,  3.9701466 ,  7.70476221,  7.84448807,\n",
       "       13.29361777,  7.10329234,  4.00261138,  0.5610676 ,  1.47082088,\n",
       "        6.17971425,  2.76386294,  7.04326678,  7.21057306, -0.18159059,\n",
       "        0.98820123, -0.47496988,  0.75740861,  0.88603315,  8.69839034,\n",
       "        4.31985244,  7.37056281,  0.63899114,  7.5203616 ,  4.7445977 ,\n",
       "        1.18714693,  4.88848751,  6.68072744, -1.03009567,  8.77082038,\n",
       "        8.28691644, 20.23953958,  4.29175412,  2.69349217,  6.6653305 ,\n",
       "        9.16128607,  0.36515096,  1.10517289,  5.01830361,  7.13280491,\n",
       "        8.58013445,  3.59750298,  4.68638123, 20.11601858,  0.99568938,\n",
       "        0.81848939,  0.73965333,  2.68138886,  3.3199768 ,  0.29095785,\n",
       "        6.17496901])"
      ]
     },
     "execution_count": 87,
     "metadata": {},
     "output_type": "execute_result"
    }
   ],
   "source": [
    "y_pred "
   ]
  },
  {
   "cell_type": "code",
   "execution_count": 88,
   "metadata": {},
   "outputs": [],
   "source": [
    "r_squared=r2_score(y_test,y_pred) "
   ]
  },
  {
   "cell_type": "code",
   "execution_count": 89,
   "metadata": {},
   "outputs": [
    {
     "data": {
      "text/plain": [
       "0.8794969037706871"
      ]
     },
     "execution_count": 89,
     "metadata": {},
     "output_type": "execute_result"
    }
   ],
   "source": [
    "r_squared "
   ]
  },
  {
   "cell_type": "code",
   "execution_count": 90,
   "metadata": {},
   "outputs": [
    {
     "data": {
      "text/plain": [
       "3.045995152093063"
      ]
     },
     "execution_count": 90,
     "metadata": {},
     "output_type": "execute_result"
    }
   ],
   "source": [
    "mse=mean_squared_error(y_test,y_pred)\n",
    "mse "
   ]
  },
  {
   "cell_type": "code",
   "execution_count": null,
   "metadata": {},
   "outputs": [],
   "source": []
  }
 ],
 "metadata": {
  "kernelspec": {
   "display_name": "Python 3",
   "language": "python",
   "name": "python3"
  },
  "language_info": {
   "codemirror_mode": {
    "name": "ipython",
    "version": 3
   },
   "file_extension": ".py",
   "mimetype": "text/x-python",
   "name": "python",
   "nbconvert_exporter": "python",
   "pygments_lexer": "ipython3",
   "version": "3.8.8"
  }
 },
 "nbformat": 4,
 "nbformat_minor": 4
}
